{
 "cells": [
  {
   "cell_type": "code",
   "execution_count": 1,
   "metadata": {},
   "outputs": [
    {
     "name": "stdout",
     "output_type": "stream",
     "text": [
      "['a', 'a', 'a', 'a', 'a']\n"
     ]
    }
   ],
   "source": [
    "import re\n",
    "text = '/Users/elnrsahar/Desktop/Python tasks/lab5/row.txt'\n",
    "with open(text, 'r') as file:\n",
    "    string = file.read().strip()\n",
    "pattern = r'ab*'\n",
    "result = re.findall(pattern, string)\n",
    "if result:\n",
    "    print(result)\n",
    "else:\n",
    "    print(\"Not found\")"
   ]
  },
  {
   "cell_type": "code",
   "execution_count": 2,
   "metadata": {},
   "outputs": [
    {
     "name": "stdout",
     "output_type": "stream",
     "text": [
      "Not found\n"
     ]
    }
   ],
   "source": [
    "import re\n",
    "text = '/Users/elnrsahar/Desktop/Python tasks/lab5/row.txt'\n",
    "with open(text, 'r') as file:\n",
    "    string = file.read().strip()\n",
    "pattern = r'ab[2-3]'\n",
    "result = re.findall(pattern, string)\n",
    "if result:\n",
    "    print(result)\n",
    "else:\n",
    "    print(\"Not found\") "
   ]
  },
  {
   "cell_type": "code",
   "execution_count": 3,
   "metadata": {},
   "outputs": [
    {
     "name": "stdout",
     "output_type": "stream",
     "text": [
      "Not found\n"
     ]
    }
   ],
   "source": [
    "import re\n",
    "text = \"/Users/elnrsahar/Desktop/Python tasks/lab5/row.txt\"\n",
    "with open(text, 'r') as file:\n",
    "    string = file.read().strip()\n",
    "pattern = \"\\b[a-z]+_[a-z]+\\b\"\n",
    "result = re.findall(pattern, string)\n",
    "if result:\n",
    "    print(result)\n",
    "else:\n",
    "    print(\"Not found\") "
   ]
  },
  {
   "cell_type": "code",
   "execution_count": 7,
   "metadata": {},
   "outputs": [
    {
     "name": "stdout",
     "output_type": "stream",
     "text": [
      "['Bi', 'Vo', 'Me', 'Na', 'Ca', 'Pr', 'Se', 'Pr', 'Se', 'Cl', 'Bi', 'Wo', 'Bi', 'Wo']\n"
     ]
    }
   ],
   "source": [
    "import re\n",
    "text = \"/Users/elnrsahar/Desktop/Python tasks/lab5/row.txt\"\n",
    "with open(text, \"r\") as file:\n",
    "    string = file.read().strip()\n",
    "pattern = \"[A-Z][a-z]\"\n",
    "result = re.findall(pattern, string)\n",
    "if result:\n",
    "    print(result)\n",
    "else:\n",
    "    print(\"Not found\") "
   ]
  },
  {
   "cell_type": "code",
   "execution_count": 9,
   "metadata": {},
   "outputs": [
    {
     "name": "stdout",
     "output_type": "stream",
     "text": [
      "Not found\n"
     ]
    }
   ],
   "source": [
    "import re\n",
    "text = \"/Users/elnrsahar/Desktop/Python tasks/lab5/row.txt\"\n",
    "with open(text, \"r\") as file:\n",
    "    string = file.read().strip()\n",
    "pattern = \"^a.*b$\"\n",
    "result = re.findall(pattern, string)\n",
    "if result:\n",
    "    print(result)\n",
    "else:\n",
    "    print(\"Not found\") "
   ]
  },
  {
   "cell_type": "code",
   "execution_count": 13,
   "metadata": {},
   "outputs": [
    {
     "name": "stdout",
     "output_type": "stream",
     "text": [
      "Result: Hello::world::How:are:you:doing:today?\n"
     ]
    }
   ],
   "source": [
    "import re\n",
    "def replace_characters(text):\n",
    "    x = re.sub(r'[ ,.]', \":\", text)\n",
    "    return x\n",
    "input_text = \"Hello, world. How are you doing today?\"\n",
    "result = replace_characters(input_text)\n",
    "print(\"Result:\", result)"
   ]
  },
  {
   "cell_type": "code",
   "execution_count": 15,
   "metadata": {},
   "outputs": [
    {
     "name": "stdout",
     "output_type": "stream",
     "text": [
      "Snake case: yelnue_unx_mjdx\n",
      "Camel case: yelnueUnxMjdx\n"
     ]
    }
   ],
   "source": [
    "def snake_to_camel(snake_str):\n",
    "    parts = snake_str.split('_')\n",
    "    camel_case = parts[0] + ''.join(word.capitalize() for word in parts[1:])\n",
    "    return camel_case\n",
    "snake_string =str(input())\n",
    "camel_string = snake_to_camel(snake_string)\n",
    "print(\"Snake case:\", snake_string)\n",
    "print(\"Camel case:\", camel_string)"
   ]
  },
  {
   "cell_type": "code",
   "execution_count": 16,
   "metadata": {},
   "outputs": [
    {
     "name": "stdout",
     "output_type": "stream",
     "text": [
      "Original string: YdlenNuduMMEdm\n",
      "Split parts: ['Ydlen', 'Nudu', 'M', 'M', 'Edm']\n"
     ]
    }
   ],
   "source": [
    "import re\n",
    "def split_at_uppercase(s):\n",
    "    parts = re.split(r'(?=[A-Z])', s)\n",
    "    parts = [part for part in parts if part]\n",
    "    return parts\n",
    "input_string =str(input())\n",
    "result = split_at_uppercase(input_string)\n",
    "print(\"Original string:\", input_string)\n",
    "print(\"Split parts:\", result)"
   ]
  },
  {
   "cell_type": "code",
   "execution_count": 17,
   "metadata": {},
   "outputs": [
    {
     "name": "stdout",
     "output_type": "stream",
     "text": [
      "Original: JnxnxM JEX\n",
      "Modified: Jnxnx M  J E X\n"
     ]
    }
   ],
   "source": [
    "import re\n",
    "def insert_spaces(text):\n",
    "    result = re.sub(r'(?<!^)(?=[A-Z])', ' ', text)\n",
    "    return result\n",
    "input_text = str(input())\n",
    "output_text = insert_spaces(input_text)\n",
    "print(\"Original:\", input_text)\n",
    "print(\"Modified:\", output_text)"
   ]
  },
  {
   "cell_type": "code",
   "execution_count": 19,
   "metadata": {},
   "outputs": [
    {
     "name": "stdout",
     "output_type": "stream",
     "text": [
      "Camel case: YelnurHasMore\n",
      "Snake case: yelnur_has_more\n"
     ]
    }
   ],
   "source": [
    "import re\n",
    "def camel_to_snake(camel_str):\n",
    "    snake_str = re.sub(r'(?<=[a-z0-9])([A-Z])', r'_\\1', camel_str)\n",
    "    return snake_str.lower()\n",
    "camel_string = str(input())\n",
    "snake_string = camel_to_snake(camel_string)\n",
    "print(\"Camel case:\", camel_string)\n",
    "print(\"Snake case:\", snake_string)"
   ]
  }
 ],
 "metadata": {
  "kernelspec": {
   "display_name": "Python 3",
   "language": "python",
   "name": "python3"
  },
  "language_info": {
   "codemirror_mode": {
    "name": "ipython",
    "version": 3
   },
   "file_extension": ".py",
   "mimetype": "text/x-python",
   "name": "python",
   "nbconvert_exporter": "python",
   "pygments_lexer": "ipython3",
   "version": "3.8.12"
  }
 },
 "nbformat": 4,
 "nbformat_minor": 2
}
